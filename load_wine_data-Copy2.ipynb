{
 "cells": [
  {
   "cell_type": "markdown",
   "metadata": {},
   "source": [
    "# MACHINE LEARNING MID-TERM PROJECT"
   ]
  },
  {
   "cell_type": "markdown",
   "metadata": {},
   "source": [
    "For our project, we implement multinomial regression on the given wine data set to classify the wines into three different categories. We follow the theory discussed in the following link to complete the task. https://www.geeksforgeeks.org/softmax-regression-using-tensorflow/"
   ]
  },
  {
   "cell_type": "markdown",
   "metadata": {},
   "source": [
    "### STEP 0: Import the used libraries \n"
   ]
  },
  {
   "cell_type": "code",
   "execution_count": 108,
   "metadata": {},
   "outputs": [],
   "source": [
    "import numpy as np\n",
    "import pandas as pd\n",
    "import seaborn as sns\n",
    "import matplotlib.pyplot as plt\n",
    "from mpl_toolkits.mplot3d import Axes3D"
   ]
  },
  {
   "cell_type": "markdown",
   "metadata": {},
   "source": [
    "### STEP 1: Import the data.\n",
    "We use numpy mostly in our code but here we have use pd.read_csv to just visualise the data."
   ]
  },
  {
   "cell_type": "code",
   "execution_count": 109,
   "metadata": {},
   "outputs": [
    {
     "data": {
      "text/html": [
       "<div>\n",
       "<style scoped>\n",
       "    .dataframe tbody tr th:only-of-type {\n",
       "        vertical-align: middle;\n",
       "    }\n",
       "\n",
       "    .dataframe tbody tr th {\n",
       "        vertical-align: top;\n",
       "    }\n",
       "\n",
       "    .dataframe thead th {\n",
       "        text-align: right;\n",
       "    }\n",
       "</style>\n",
       "<table border=\"1\" class=\"dataframe\">\n",
       "  <thead>\n",
       "    <tr style=\"text-align: right;\">\n",
       "      <th></th>\n",
       "      <th>x</th>\n",
       "      <th>Alcohol</th>\n",
       "      <th>Malic Acid</th>\n",
       "      <th>Ash</th>\n",
       "      <th>Alkalinity of ash</th>\n",
       "      <th>Magnesium</th>\n",
       "      <th>Total Phenols</th>\n",
       "      <th>Flavanoids</th>\n",
       "      <th>Nonflavanoid phenols</th>\n",
       "      <th>Proanthocyanins</th>\n",
       "      <th>Color intensity</th>\n",
       "      <th>Hue</th>\n",
       "      <th>OD280/OD315 of Diluted wines</th>\n",
       "      <th>Proline</th>\n",
       "    </tr>\n",
       "  </thead>\n",
       "  <tbody>\n",
       "    <tr>\n",
       "      <th>0</th>\n",
       "      <td>1</td>\n",
       "      <td>14.23</td>\n",
       "      <td>1.71</td>\n",
       "      <td>2.43</td>\n",
       "      <td>15.6</td>\n",
       "      <td>127</td>\n",
       "      <td>2.80</td>\n",
       "      <td>3.06</td>\n",
       "      <td>0.28</td>\n",
       "      <td>2.29</td>\n",
       "      <td>5.64</td>\n",
       "      <td>1.04</td>\n",
       "      <td>3.92</td>\n",
       "      <td>1065</td>\n",
       "    </tr>\n",
       "    <tr>\n",
       "      <th>1</th>\n",
       "      <td>1</td>\n",
       "      <td>13.20</td>\n",
       "      <td>1.78</td>\n",
       "      <td>2.14</td>\n",
       "      <td>11.2</td>\n",
       "      <td>100</td>\n",
       "      <td>2.65</td>\n",
       "      <td>2.76</td>\n",
       "      <td>0.26</td>\n",
       "      <td>1.28</td>\n",
       "      <td>4.38</td>\n",
       "      <td>1.05</td>\n",
       "      <td>3.40</td>\n",
       "      <td>1050</td>\n",
       "    </tr>\n",
       "    <tr>\n",
       "      <th>2</th>\n",
       "      <td>1</td>\n",
       "      <td>13.16</td>\n",
       "      <td>2.36</td>\n",
       "      <td>2.67</td>\n",
       "      <td>18.6</td>\n",
       "      <td>101</td>\n",
       "      <td>2.80</td>\n",
       "      <td>3.24</td>\n",
       "      <td>0.30</td>\n",
       "      <td>2.81</td>\n",
       "      <td>5.68</td>\n",
       "      <td>1.03</td>\n",
       "      <td>3.17</td>\n",
       "      <td>1185</td>\n",
       "    </tr>\n",
       "    <tr>\n",
       "      <th>3</th>\n",
       "      <td>1</td>\n",
       "      <td>14.37</td>\n",
       "      <td>1.95</td>\n",
       "      <td>2.50</td>\n",
       "      <td>16.8</td>\n",
       "      <td>113</td>\n",
       "      <td>3.85</td>\n",
       "      <td>3.49</td>\n",
       "      <td>0.24</td>\n",
       "      <td>2.18</td>\n",
       "      <td>7.80</td>\n",
       "      <td>0.86</td>\n",
       "      <td>3.45</td>\n",
       "      <td>1480</td>\n",
       "    </tr>\n",
       "    <tr>\n",
       "      <th>4</th>\n",
       "      <td>1</td>\n",
       "      <td>13.24</td>\n",
       "      <td>2.59</td>\n",
       "      <td>2.87</td>\n",
       "      <td>21.0</td>\n",
       "      <td>118</td>\n",
       "      <td>2.80</td>\n",
       "      <td>2.69</td>\n",
       "      <td>0.39</td>\n",
       "      <td>1.82</td>\n",
       "      <td>4.32</td>\n",
       "      <td>1.04</td>\n",
       "      <td>2.93</td>\n",
       "      <td>735</td>\n",
       "    </tr>\n",
       "  </tbody>\n",
       "</table>\n",
       "</div>"
      ],
      "text/plain": [
       "   x  Alcohol  Malic Acid   Ash  Alkalinity of ash  Magnesium  Total Phenols  \\\n",
       "0  1    14.23        1.71  2.43               15.6        127           2.80   \n",
       "1  1    13.20        1.78  2.14               11.2        100           2.65   \n",
       "2  1    13.16        2.36  2.67               18.6        101           2.80   \n",
       "3  1    14.37        1.95  2.50               16.8        113           3.85   \n",
       "4  1    13.24        2.59  2.87               21.0        118           2.80   \n",
       "\n",
       "   Flavanoids  Nonflavanoid phenols  Proanthocyanins  Color intensity   Hue  \\\n",
       "0        3.06                  0.28             2.29             5.64  1.04   \n",
       "1        2.76                  0.26             1.28             4.38  1.05   \n",
       "2        3.24                  0.30             2.81             5.68  1.03   \n",
       "3        3.49                  0.24             2.18             7.80  0.86   \n",
       "4        2.69                  0.39             1.82             4.32  1.04   \n",
       "\n",
       "   OD280/OD315 of Diluted wines  Proline  \n",
       "0                          3.92     1065  \n",
       "1                          3.40     1050  \n",
       "2                          3.17     1185  \n",
       "3                          3.45     1480  \n",
       "4                          2.93      735  "
      ]
     },
     "execution_count": 109,
     "metadata": {},
     "output_type": "execute_result"
    }
   ],
   "source": [
    "wines_pd = pd.read_csv('file:///Users/dompenguin/Downloads/wine.data', names=[\"x\",\"Alcohol\", \"Malic Acid\", \"Ash\", \"Alkalinity of ash\",\"Magnesium\",\"Total Phenols\",\"Flavanoids\",\"Nonflavanoid phenols\",\"Proanthocyanins\",\"Color intensity\",\"Hue\",\"OD280/OD315 of Diluted wines\",\"Proline\"])\n",
    "wines_pd.head()"
   ]
  },
  {
   "cell_type": "markdown",
   "metadata": {},
   "source": [
    "Convert the pandas dataframe to a numpy dataframe. "
   ]
  },
  {
   "cell_type": "code",
   "execution_count": 110,
   "metadata": {},
   "outputs": [],
   "source": [
    "whole_dataframe = pd.DataFrame.to_numpy(wines_pd)"
   ]
  },
  {
   "cell_type": "markdown",
   "metadata": {},
   "source": [
    "### STEP 2: Modify the dataset to make it suitable for our purposes.  \n",
    "We use 50 datapoints for training and the rest for testing. Since the dataframe is sorted according to classes, we shuffle the rows and use np.random.seed(0) to fix our shuffle so that we don't get a different result everytime we run the code."
   ]
  },
  {
   "cell_type": "code",
   "execution_count": 111,
   "metadata": {},
   "outputs": [],
   "source": [
    "np.random.seed(0)\n",
    "np.random.shuffle(whole_dataframe)\n",
    "[training_dataframe, testing_dataframe] = np.split(whole_dataframe, [50], axis=0)"
   ]
  },
  {
   "cell_type": "markdown",
   "metadata": {},
   "source": [
    "We take the classes out of our dataframe since they won't be needed <i>directly</i> in our regression process. We will define the one-hot encoded target matrix with the classes. "
   ]
  },
  {
   "cell_type": "code",
   "execution_count": 112,
   "metadata": {},
   "outputs": [],
   "source": [
    "x = np.delete(training_dataframe, 0, 1)\n",
    "classes = training_dataframe[:,0]"
   ]
  },
  {
   "cell_type": "markdown",
   "metadata": {},
   "source": [
    "Standardise our data and the augment it with column of ones "
   ]
  },
  {
   "cell_type": "code",
   "execution_count": 113,
   "metadata": {},
   "outputs": [],
   "source": [
    "def standardise(x):\n",
    "    mean_x = np.mean(x, axis=0)\n",
    "    x = x - mean_x\n",
    "    std_x = np.std(x, axis=0)\n",
    "    x = x / std_x\n",
    "    return x, mean_x, std_x\n",
    "x = standardise(x)[0]"
   ]
  },
  {
   "cell_type": "markdown",
   "metadata": {},
   "source": [
    "### Step 3: Define the functions/tools necessary to implement the regression. \n",
    "Make y, the one-hot encoded target matrix. It is defined as follows:\n",
    "<br>For each element $i$ in the classes array (which can take value  $j$ = 1, 2 or 3), the $i^{th}$ row of y will have zeros everywhere except at its intercept with the $j^{th}$ column where it will have a one. "
   ]
  },
  {
   "cell_type": "code",
   "execution_count": 114,
   "metadata": {},
   "outputs": [],
   "source": [
    "y = np.zeros([classes.shape[0],3])\n",
    "for i in range(0,classes.shape[0]):\n",
    "    save = int(classes[i] - 1) \n",
    "    y[i,save] = 1"
   ]
  },
  {
   "cell_type": "markdown",
   "metadata": {},
   "source": [
    "For a set of numbers $ z = (z_1,z_2,..,z_n) $, the softmax for the $i^{th}$ element is \n",
    "<br><br> $$ f(z)_i = \\frac{exp(z_i)}{\\sum_{k=1}^{n}{exp(z_k)}} $$ <br>  For the purpose of making our code more efficient, we get our softmax values with our function softmaxval which takes a matrix as its input and gives us a matrix of the same size with softmax values of each element relative to its row. For example, for input matrix of size 4x3 the softmaxval function will work as follows\n",
    "<br>$$ softmaxval\\left(\\left\\lbrack \\begin{array}{ccc}\n",
    "x_{11}  & x_{12}  & x_{13} \\\\\n",
    "x_{21}  & x_{22}  & x_{23} \\\\\n",
    "x_{31}  & x_{32}  & x_{33} \\\\\n",
    "x_{41}  & x_{42}  & x_{43} \n",
    "\\end{array}\\right\\rbrack \\right)=\\left\\lbrack \\begin{array}{ccc}\n",
    "{f\\left(x_1 \\right)}_1  & {f\\left(x_1 \\right)}_2  & {f\\left(x_1 \\right)}_3 \\\\\n",
    "{f\\left(x_2 \\right)}_1  & {f\\left(x_2 \\right)}_2  & {f\\left(x_2 \\right)}_3 \\\\\n",
    "{f\\left(x_3 \\right)}_1  & f{\\left(x_3 \\right)}_2  & {f\\left(x_3 \\right)}_3 \\\\\n",
    "{f\\left(x_4 \\right)}_1  & {f\\left(x_4 \\right)}_2  & {f\\left(x_4 \\right)}_3 \n",
    "\\end{array}\\right\\rbrack$$\n",
    "<br>where $f$ is the softmax function defined in the conventional sense and $x_n$ is the <b> $n^{th}$ row </b>\n",
    "in the weight matrix. "
   ]
  },
  {
   "cell_type": "code",
   "execution_count": 115,
   "metadata": {},
   "outputs": [],
   "source": [
    "def softmax_val(W):\n",
    "    W = np.exp(W)\n",
    "    W = (W.T/np.sum(W,axis=1)).T\n",
    "    return W"
   ]
  },
  {
   "cell_type": "markdown",
   "metadata": {},
   "source": [
    "The loss function for multinomial regression is defined as follows\n",
    "<br> <br> $$Loss=-\\frac{1}{n}\\sum\\limits_{i=1}^{n} \\sum\\limits_{j=1}^{k }y_{ij} \\mathrm{log}\\left({f\\left(w_i \\right)}_j \\right)$$ \n",
    "\n",
    "To explain the steps for calculating loss that are used in the code, we will us an example with only 4 data points and the two features. Let $tx$ be the the augmented matrix of x, with the first column equal to one. Therefore, its dimension will be 4x3. Since we're classifying the datapoints into three classes, the weight matrix will have dimension 3x3. Note that three columns in the weight matrix means we are classifying the data into three classes, which is what we're trying to do with wine dataset. While the number of datapoints and the number of features are adjustable, we will keep the number of classes equal to three. \n",
    "\n",
    "1. Calculate Score matrix, $ s = tx*W $ \n",
    "$$ S = \\left\\lbrack \\begin{array}{ccc}\n",
    "{tx}_1 \\ldotp w_1  & {tx}_1 \\ldotp w_2  & {tx}_1 \\ldotp w_3 \\\\\n",
    "{tx}_2 \\ldotp w_1  & {tx}_2 \\ldotp w_2  & {tx}_2 \\ldotp w_3 \\\\\n",
    "{tx}_3 \\ldotp w_1  & {tx}_3 \\ldotp w_2  & {tx}_3 \\ldotp w_3 \\\\\n",
    "{tx}_4 \\ldotp w_1  & {tx}_4 \\ldotp w_2  & {tx}_4 \\ldotp w_3 \n",
    "\\end{array}\\right\\rbrack$$ <br>\n",
    "Here $tx_i$ is the $i^{th}$ <b>row</b> of tx and $w_i$ is the $i^{th}$ <b>column</b> of W.\n",
    "\n",
    "2. Put the Score matrix through softmaxval <br>\n",
    "$$ \\left\\lbrack \\begin{array}{ccc}\n",
    "{f\\left(S_1 \\right)}_1  & {f\\left(S_1 \\right)}_2  & {f\\left(S_1 \\right)}_3 \\\\\n",
    "{f\\left(S_2 \\right)}_1  & {f\\left(S_2 \\right)}_2  & {f\\left(S_2 \\right)}_3 \\\\\n",
    "{f\\left(S_3 \\right)}_1  & {f\\left(S_3 \\right)}_2  & {f\\left(S_3 \\right)}_3 \\\\\n",
    "{f\\left(S_4 \\right)}_1  & {f\\left(S_4 \\right)}_2  & {f\\left(S_4 \\right)}_3 \n",
    "\\end{array}\\right\\rbrack$$<br>\n",
    "\n",
    "4. Take log \n",
    "$$\\left\\lbrack \\begin{array}{ccc}\n",
    "log\\;\\mathrm{𝑓}\\left({𝑆}_1 {\\left.\\right)}_1 \\right. & log\\;\\mathrm{𝑓}\\left({𝑆}_1 {\\left.\\right)}_2 \\right. & log\\;\\mathrm{𝑓}\\left({𝑆}_1 {\\left.\\right)}_3 \\right.\\\\\n",
    "log\\;\\mathrm{𝑓}\\left({𝑆}_2 {\\left.\\right)}_1 \\right. & log\\;\\mathrm{𝑓}\\left({𝑆}_2 {\\left.\\right)}_2 \\right. & log\\;\\mathrm{𝑓}\\left({𝑆}_2 {\\left.\\right)}_3 \\right.\\\\\n",
    "log\\;f\\left({𝑆}_3 {\\left.\\right)}_1 \\right. & log\\;\\mathrm{𝑓}\\left({𝑆}_3 {\\left.\\right)}_2 \\right. & log\\;\\mathrm{𝑓}\\left({𝑆}_3 {\\left.\\right)}_3 \\right.\\\\\n",
    "log\\;\\mathrm{𝑓}\\left({𝑆}_4 {\\left.\\right)}_1 \\right. & log\\;\\mathrm{𝑓}\\left({𝑆}_4 {\\left.\\right)}_2 \\right. & log\\;\\mathrm{𝑓}\\left({𝑆}_4 {\\left.\\right)}_3 \\right.\n",
    "\\end{array}\\right\\rbrack$$<br>\n",
    "\n",
    "4. Multiply element wise with the one-hot encoded target matrix<br><br>\n",
    "$$\\left\\lbrack \\begin{array}{ccc}\n",
    "{y_{11} logf\\left(S_1 \\right)}_1  & {y_{12} logf\\left(S_1 \\right)}_2  & {y_{13} logf\\left(S_1 \\right)}_3 \\\\\n",
    "{y_{21} logf\\left(S_2 \\right)}_1  & y_{22} log{f\\left(S_2 \\right)}_2  & {y_{23} logf\\left(S_2 \\right)}_3 \\\\\n",
    "{y_{31} logf\\left(S_3 \\right)}_1  & {y_{32} logf\\left(S_3 \\right)}_2  & {y_{33} logf\\left(S_3 \\right)}_3 \\\\\n",
    "y_{41} log{f\\left(S_4 \\right)}_1  & {y_{42} logf\\left(S_4 \\right)}_2  & {y_{43} logf\\left(S_4 \\right)}_3 \n",
    "\\end{array}\\right\\rbrack$$<br>\n",
    "\n",
    "4. Sum rows <br><br>\n",
    "$$\\left\\lbrack \\begin{array}{c}\n",
    "\\sum\\limits_{j=1}^3 {y_{1j} logf\\left(S_1 \\right)}_j \\\\\n",
    "\\sum\\limits_{j=1}^3 {y_{2j} logf\\left(S_2 \\right)}_j \\\\\n",
    "\\sum\\limits_{j=1}^3 {y_{3j} logf\\left(S_3 \\right)}_j \\\\\n",
    "\\sum\\limits_{j=1}^3 {y_{4j} logf\\left(S_4 \\right)}_j \n",
    "\\end{array}\\right\\rbrack$$<br>\n",
    "\n",
    "5. Sum all elements, and multiply by $-\\frac{1}{n}$<br><br>\n",
    "$$ -\\frac{1}{n}\\sum\\limits_{i=1}^{n} \\sum\\limits_{j=1}^{3 }y_{ij} log\\left({f\\left(w_i \\right)}_j \\right) $$\n",
    "\n",
    "This gives us our loss. \n"
   ]
  },
  {
   "cell_type": "code",
   "execution_count": 117,
   "metadata": {},
   "outputs": [],
   "source": [
    "def calculate_loss(y,tx,W):\n",
    "    \n",
    "    #Multiply tx and W to get logic score matrix \n",
    "    score = np.matmul(tx,W)\n",
    "    #softmax(score)\n",
    "    sm = softmax_val(score)\n",
    "    #Take logs\n",
    "    step3loss = np.log(sm)\n",
    "    #Multiply element-wise with one hot encoded target matrix\n",
    "    step4loss = np.multiply(step3loss,y)\n",
    "    #Sum rows \n",
    "    step5loss = np.sum(step4loss,axis=1)\n",
    "    #loss = -np.sum(step5loss)/tx.shape[0]\n",
    "    return -np.sum(step5loss)/tx.shape[0]"
   ]
  },
  {
   "cell_type": "markdown",
   "metadata": {},
   "source": [
    "Our gradient matrix has the same size as our weight matrix, and its element in the $a^{th}$ row and the $b^{th}$ column is the derivative of the loss function wrt to $w_{ab}$\n",
    "To calculate the gradient matrix, we divide our task in three parts to make our calulations easier. Consider the following:\n",
    "\n",
    "If $b = j$\n",
    "$$\\frac{\\delta }{\\delta w_{ab} }\\mathrm{log}\\left(\\frac{\\mathrm{exp}\\left({tx}_i \\ldotp w_j \\right)}{\\mathrm{exp}\\left({tx}_i \\ldotp w_1 \\right)+\\mathrm{exp}\\left({tx}_i \\ldotp w_2 \\right)+\\mathrm{exp}\\left({tx}_i \\ldotp w_3 \\right)}\\right)$$\n",
    "$$=\\frac{\\delta }{\\delta w_{ab} }\\left({tx}_i \\ldotp w_j -\\mathrm{log}\\left(\\mathrm{exp}\\left({tx}_i \\ldotp w_1 \\right)+\\mathrm{exp}\\left({tx}_i \\ldotp w_2 \\right)+\\mathrm{exp}\\left({tx}_i \\ldotp w_3 \\right)\\right)\\right)$$\n",
    "$$={tx}_{ia} -\\frac{1}{\\mathrm{exp}\\left({tx}_i \\ldotp w_1 \\right)+\\mathrm{exp}\\left({tx}_i \\ldotp w_2 \\right)+\\mathrm{exp}\\left({tx}_i \\ldotp w_3 \\right)}\\ldotp \\mathrm{exp}\\left({tx}_i \\ldotp w_a \\right)\\ldotp {tx}_{ia}$$\n",
    "<br>$$ = {tx}_{ia} \\left(1-f(S_i)_a \\right)$$\n",
    "If $b\\neq j$ \n",
    "$$\\frac{\\delta }{\\delta w_{ab} }\\mathrm{log}\\left(\\frac{\\mathrm{exp}\\left({tx}_i \\ldotp w_j \\right)}{\\mathrm{exp}\\left({tx}_i \\ldotp w_1 \\right)+\\mathrm{exp}\\left({tx}_i \\ldotp w_2 \\right)+\\mathrm{exp}\\left({tx}_i \\ldotp w_3 \\right)}\\right)$$\n",
    "$$=\\frac{\\delta }{\\delta w_{ab} }\\left({tx}_i \\ldotp w_j -\\mathrm{log}\\left(\\mathrm{exp}\\left({tx}_i \\ldotp w_1 \\right)+\\mathrm{exp}\\left({tx}_i \\ldotp w_2 \\right)+\\mathrm{exp}\\left({tx}_i \\ldotp w_3 \\right)\\right)\\right)$$\n",
    "$$ = -\\frac{1}{\\mathrm{exp}\\left({tx}_i \\ldotp w_1 \\right)+\\mathrm{exp}\\left({tx}_i \\ldotp w_2 \\right)+\\mathrm{exp}\\left({tx}_i \\ldotp w_3 \\right)}\\ldotp \\mathrm{exp}\\left({tx}_i \\ldotp w_a \\right)\\ldotp {tx}_{ia}$$\n",
    "<br>$$={-tx}_{ia} f(S_i)_a$$\n",
    "\n",
    "Therefore, \n",
    "$$\\frac{\\delta }{\\delta w_{k1} }loss=\\frac{\\delta }{\\delta w_{k1} }\\frac{-1}{n}\\sum_{i=1}^n y_{i1} log\\left({f\\left(S_i \\right)}_1 \\right)+y_{i2} log\\left({f\\left(S_i \\right)}_2 \\right)+y_{i3} log\\left({f\\left(S_i \\right)}_3 \\right)$$\n",
    "$$=\\frac{-1}{n}\\sum_{i=1}^n y_{i1} \\frac{\\delta }{\\delta w_{k1} }log\\left({f\\left(S_i \\right)}_1 \\right)+y_{i2} \\frac{\\delta }{\\delta w_{k1} }log\\left({f\\left(S_i \\right)}_2 \\right)+y_{i3} \\frac{\\delta }{\\delta w_{k1} }log\\left({f\\left(S_i \\right)}_3 \\right)$$\n",
    "$$= \\frac{-1}{n}\\sum\\limits_{i=1}^n {tx}_{ik} \\left(y_{i1} \\left(1-{f\\left(S_i \\right)}_1 \\right)+y_{i2} \\left(-{f\\left(S_i \\right)}_1 \\right)+y_{i3} \\left({-f\\left(S_i \\right)}_1 \\right)\\right)$$\n",
    "Similarly, \n",
    "$$\\frac{\\delta }{\\delta w_{k2} }loss=\\frac{-1}{n}\\;\\sum\\limits_{i=1}^n {tx}_{ik} \\left(y_{i1} \\left(-{f\\left(S_i \\right)}_2 \\right)+y_{i2} \\left(1-{f\\left(S_i \\right)}_2 \\right)+y_{i3} \\left({-f\\left(S_i \\right)}_2 \\right)\\right)$$\n",
    "$$\\frac{\\delta }{\\delta w_{k3} }loss=\\frac{-1}{n}\\;\\sum\\limits_{i=1}^n {tx}_{ik} \\left(y_{i1} \\left(-{f\\left(S_i \\right)}_3 \\right)+y_{i2} \\left(-{f\\left(S_i \\right)}_3 \\right)+y_{i3} \\left({1-f\\left(S_i \\right)}_3 \\right)\\right)$$\n",
    "\n",
    "Hence, to calculate the gradients we will introduce three new matrices. (Again for the sake of simplicity in presentation, we will assume there are only four data points \n",
    "$$SM1=\\;\\left\\lbrack \\begin{array}{ccc}\n",
    "1-{f\\left(S_1 \\right)}_1  & -{f\\left(S_1 \\right)}_1  & -{f\\left(S_1 \\right)}_1 \\\\\n",
    "1-{f\\left(S_2 \\right)}_1  & -{f\\left(S_2 \\right)}_1  & -{f\\left(S_2 \\right)}_1 \\\\\n",
    "1-{f\\left(S_3 \\right)}_1  & -{f\\left(S_3 \\right)}_1  & -{f\\left(S_3 \\right)}_1 \\\\\n",
    "1-{f\\left(S_4 \\right)}_1  & -{f\\left(S_4 \\right)}_1  & -{f\\left(S_4 \\right)}_1 \n",
    "\\end{array}\\right\\rbrack$$<br>\n",
    "$$SM2=\\;\\left\\lbrack \\begin{array}{ccc}\n",
    "-{f\\left(S_1 \\right)}_2  & 1-{f\\left(S_1 \\right)}_2  & -{f\\left(S_1 \\right)}_2 \\\\\n",
    "-{f\\left(S_2 \\right)}_2  & 1-{f\\left(S_2 \\right)}_2  & -{f\\left(S_2 \\right)}_2 \\\\\n",
    "-{f\\left(S_3 \\right)}_2  & 1-{f\\left(S_3 \\right)}_2  & -{f\\left(S_3 \\right)}_2 \\\\\n",
    "-{f\\left(S_4 \\right)}_2  & 1-{f\\left(S_4 \\right)}_2  & -{f\\left(S_4 \\right)}_2 \n",
    "\\end{array}\\right\\rbrack$$<br>\n",
    "$$SM3=\\;\\left\\lbrack \\begin{array}{ccc}\n",
    "-{f\\left(S_1 \\right)}_3  & -{f\\left(S_1 \\right)}_3  & 1-{f\\left(S_1 \\right)}_3 \\\\\n",
    "-{f\\left(S_2 \\right)}_3  & -{f\\left(S_2 \\right)}_3  & 1-{f\\left(S_2 \\right)}_3 \\\\\n",
    "-{f\\left(S_3 \\right)}_3  & -{f\\left(S_3 \\right)}_3  & 1-{f\\left(S_3 \\right)}_3 \\\\\n",
    "{-f\\left(S_4 \\right)}_3  & -{f\\left(S_4 \\right)}_3  & 1-{f\\left(S_4 \\right)}_3 \n",
    "\\end{array}\\right\\rbrack$$\n",
    "Now, to calculate the gradient matrix we use the following steps. \n",
    "\n",
    "1. For derivative wrt to $w_{ab}$, choose $SMb$ and multiply element-wise with the one-hot encoded target matrix \n",
    "2. Sum along rows\n",
    "3. Take dot-product with the $a^{th}$ column in $tx$\n",
    "4. Multiply with $-\\frac{1}{n}$\n",
    "\n",
    "It is easy to see that this calculation will give us our gradient matrix\n",
    "\n",
    "\n",
    "\n",
    "\n",
    "\n",
    "\n",
    "\n"
   ]
  },
  {
   "cell_type": "code",
   "execution_count": 118,
   "metadata": {},
   "outputs": [],
   "source": [
    "def calculate_gradient(y,tx,W):\n",
    "    \n",
    "    score = np.matmul(tx,W)\n",
    "\n",
    "    SM1 = softmax_val(score)\n",
    "    SM1[:,1] = -SM1[:,0]\n",
    "    SM1[:,2] = -SM1[:,0]\n",
    "    SM1[:,0] = 1 - SM1[:,0]\n",
    "\n",
    "    SM2 = softmax_val(score)\n",
    "    SM2[:,0] = - SM2[:,1]\n",
    "    SM2[:,2] = - SM2[:,1]\n",
    "    SM2[:,1] = 1 - SM2[:,1]\n",
    "\n",
    "    SM3 = softmax_val(score) \n",
    "    SM3[:,0] = - SM3[:,2]\n",
    "    SM3[:,1] = - SM3[:,2]\n",
    "    SM3[:,2] = 1 - SM3[:,2]\n",
    "    \n",
    "    gradient = np.zeros(W.shape)\n",
    "    \n",
    "    for i in range(0,14):\n",
    "        for j in range(0,3):\n",
    "            if j == 0:\n",
    "                gradient[i,j] = -tx[:,i].dot(np.sum(np.multiply(SM1,y),axis=1))/tx.shape[0]\n",
    "            elif j ==1:\n",
    "                gradient[i,j] = -tx[:,i].dot(np.sum(np.multiply(SM2,y),axis=1))/tx.shape[0]\n",
    "            else:\n",
    "                gradient[i,j] = -tx[:,i].dot(np.sum(np.multiply(SM3,y),axis=1))/tx.shape[0]\n",
    "    return gradient"
   ]
  },
  {
   "cell_type": "markdown",
   "metadata": {},
   "source": [
    "### STEP 4: Initiate gradient descent by performing just one step "
   ]
  },
  {
   "cell_type": "code",
   "execution_count": 119,
   "metadata": {},
   "outputs": [],
   "source": [
    "def learning_by_gradient_descent(y, tx, W, tau):\n",
    "    \n",
    "    loss = calculate_loss(y, tx, W)\n",
    "    gradient = calculate_gradient(y, tx, W)\n",
    "    W -= tau*gradient \n",
    "    return loss, W"
   ]
  },
  {
   "cell_type": "markdown",
   "metadata": {},
   "source": [
    "Repeating the step with appropriately chosen parameters "
   ]
  },
  {
   "cell_type": "code",
   "execution_count": 120,
   "metadata": {},
   "outputs": [
    {
     "name": "stdout",
     "output_type": "stream",
     "text": [
      "Current iteration=0, loss=1.0986122886681098\n",
      "Current iteration=100, loss=0.38272119658192233\n",
      "Current iteration=200, loss=0.23613740630116556\n",
      "Current iteration=300, loss=0.17435909129096025\n",
      "Current iteration=400, loss=0.13986338823380134\n",
      "Current iteration=500, loss=0.11763928747636906\n",
      "Current iteration=600, loss=0.10202166776763973\n",
      "Current iteration=700, loss=0.09038647687537185\n",
      "Current iteration=800, loss=0.0813470347500988\n",
      "Current iteration=900, loss=0.07409934458697333\n",
      "Current iteration=1000, loss=0.0681438997666781\n",
      "Current iteration=1100, loss=0.06315328998038211\n",
      "Current iteration=1200, loss=0.058903531822681564\n",
      "Current iteration=1300, loss=0.05523595012470658\n",
      "Current iteration=1400, loss=0.05203482090508478\n",
      "Current iteration=1500, loss=0.04921364720525744\n",
      "Current iteration=1600, loss=0.04670640463922279\n",
      "Current iteration=1700, loss=0.044461770953363546\n",
      "Current iteration=1800, loss=0.042439213206581394\n",
      "Current iteration=1900, loss=0.04060626816762746\n",
      "Current iteration=2000, loss=0.03893661047713246\n",
      "Current iteration=2100, loss=0.037408653646596644\n",
      "Current iteration=2200, loss=0.0360045193141177\n",
      "Current iteration=2300, loss=0.03470926596941568\n",
      "Current iteration=2400, loss=0.033510303701896\n",
      "Current iteration=2500, loss=0.03239694442959058\n",
      "Current iteration=2600, loss=0.031360052220663175\n",
      "Current iteration=2700, loss=0.030391768535370785\n",
      "Current iteration=2800, loss=0.029485294222873732\n",
      "Current iteration=2900, loss=0.028634714988569926\n",
      "Current iteration=3000, loss=0.02783486049780822\n",
      "Current iteration=3100, loss=0.027081189753208584\n",
      "Current iteration=3200, loss=0.026369697175055124\n",
      "Current iteration=3300, loss=0.02569683512893301\n",
      "Current iteration=3400, loss=0.02505944961953183\n",
      "Current iteration=3500, loss=0.02445472659946736\n",
      "Current iteration=3600, loss=0.023880146893685703\n",
      "Current iteration=3700, loss=0.02333344816067551\n",
      "Current iteration=3800, loss=0.022812592635094484\n",
      "Current iteration=3900, loss=0.02231573964693808\n",
      "Current iteration=4000, loss=0.021841222107873617\n",
      "Current iteration=4100, loss=0.02138752630896815\n",
      "Current iteration=4200, loss=0.020953274495519248\n",
      "Current iteration=4300, loss=0.020537209781360897\n",
      "Current iteration=4400, loss=0.020138183042390633\n",
      "Current iteration=4500, loss=0.019755141491330463\n",
      "Current iteration=4600, loss=0.019387118686122203\n",
      "Current iteration=4700, loss=0.019033225765326137\n",
      "Current iteration=4800, loss=0.018692643737369688\n",
      "Current iteration=4900, loss=0.018364616677971613\n",
      "Current iteration=5000, loss=0.018048445712721767\n",
      "Current iteration=5100, loss=0.01774348368054987\n",
      "Current iteration=5200, loss=0.01744913038940848\n",
      "Current iteration=5300, loss=0.017164828388500232\n",
      "Current iteration=5400, loss=0.01689005919227447\n",
      "Current iteration=5500, loss=0.01662433990057288\n",
      "Current iteration=5600, loss=0.01636722016702442\n",
      "Current iteration=5700, loss=0.016118279474321345\n",
      "Current iteration=5800, loss=0.015877124680552766\n",
      "Current iteration=5900, loss=0.015643387805489763\n",
      "Current iteration=6000, loss=0.01541672402974707\n",
      "Current iteration=6100, loss=0.015196809883194561\n",
      "Current iteration=6200, loss=0.014983341601953675\n",
      "Current iteration=6300, loss=0.014776033635863018\n",
      "Current iteration=6400, loss=0.014574617290497041\n",
      "Current iteration=6500, loss=0.014378839489724484\n",
      "Current iteration=6600, loss=0.014188461646442482\n",
      "Current iteration=6700, loss=0.014003258630557729\n",
      "Current iteration=6800, loss=0.013823017824532744\n",
      "Current iteration=6900, loss=0.013647538257907455\n",
      "Current iteration=7000, loss=0.013476629813158785\n",
      "Current iteration=7100, loss=0.013310112496096729\n",
      "Current iteration=7200, loss=0.01314781576472968\n",
      "Current iteration=7300, loss=0.012989577911177379\n",
      "Current iteration=7400, loss=0.012835245491778984\n",
      "Current iteration=7500, loss=0.01268467280104643\n",
      "Current iteration=7600, loss=0.012537721385558236\n",
      "Current iteration=7700, loss=0.012394259594282251\n",
      "Current iteration=7800, loss=0.012254162162166394\n",
      "Current iteration=7900, loss=0.0121173098241465\n",
      "Current iteration=8000, loss=0.011983588956997962\n",
      "Current iteration=8100, loss=0.011852891246703925\n",
      "Current iteration=8200, loss=0.011725113379233936\n",
      "Current iteration=8300, loss=0.011600156752823707\n",
      "Current iteration=8400, loss=0.011477927210023331\n",
      "Current iteration=8500, loss=0.011358334787939491\n",
      "Current iteration=8600, loss=0.011241293485239936\n",
      "Current iteration=8700, loss=0.011126721044615555\n",
      "Current iteration=8800, loss=0.011014538749511235\n",
      "Current iteration=8900, loss=0.010904671234040056\n",
      "Current iteration=9000, loss=0.010797046305089432\n",
      "Current iteration=9100, loss=0.010691594775711855\n",
      "Current iteration=9200, loss=0.01058825030897026\n",
      "Current iteration=9300, loss=0.010486949271476696\n"
     ]
    },
    {
     "data": {
      "text/plain": [
       "(0.01047092662059995, array([[ 0.22798304,  0.53165232, -0.75963535],\n",
       "        [ 1.20169895, -1.51610986,  0.31441091],\n",
       "        [-0.0285088 , -0.33909448,  0.36760328],\n",
       "        [ 0.60592775, -0.78233424,  0.17640649],\n",
       "        [-0.80693981,  0.46658812,  0.34035169],\n",
       "        [ 0.7207401 , -0.69351237, -0.02722773],\n",
       "        [ 0.21150096,  0.28469679, -0.49619775],\n",
       "        [ 0.36516451,  0.42066944, -0.78583395],\n",
       "        [-0.3216775 ,  0.32649162, -0.00481412],\n",
       "        [ 0.37401055, -0.16816333, -0.20584722],\n",
       "        [ 0.00184305, -0.98883566,  0.98699261],\n",
       "        [ 0.28907028,  0.49261699, -0.78168727],\n",
       "        [ 0.60861601, -0.08060179, -0.52801422],\n",
       "        [ 1.17900974, -1.354234  ,  0.17522426]]))"
      ]
     },
     "execution_count": 120,
     "metadata": {},
     "output_type": "execute_result"
    }
   ],
   "source": [
    "def logistic_regression_gradient_descent_demo(y, x):\n",
    "    # initial parameters\n",
    "    max_iter = 10000000\n",
    "    threshold = 1e-6\n",
    "    tau = 0.01\n",
    "    losses = []\n",
    "\n",
    "    #initiate W = 0 \n",
    "    W = np.zeros((14, 3))\n",
    "    #Augment x with a column one ones\n",
    "    tx = np.c_[np.ones((classes.shape[0], 1)), x]\n",
    "    \n",
    "\n",
    "    # start the regression\n",
    "    for iter in range(max_iter):\n",
    "        # get loss and update w.\n",
    "        loss, W = learning_by_gradient_descent(y, tx, W, tau)\n",
    "        # log info\n",
    "        if iter % 100 == 0:\n",
    "            print(\"Current iteration={i}, loss={l}\".format(i=iter, l=loss))\n",
    "        # converge criterion\n",
    "        losses.append(loss)\n",
    "        if len(losses) > 1 and np.abs(losses[-1] - losses[-2]) < threshold:\n",
    "            break\n",
    "    return loss, W\n",
    "\n",
    "loss, W = logistic_regression_gradient_descent_demo(y, x)\n",
    "loss, W"
   ]
  },
  {
   "cell_type": "markdown",
   "metadata": {},
   "source": [
    "### Step 5: Check accuracy of prediction \n",
    "\n",
    "Now, we check our results by testing our obtained weights with our testing data. "
   ]
  },
  {
   "cell_type": "code",
   "execution_count": 101,
   "metadata": {},
   "outputs": [
    {
     "data": {
      "text/plain": [
       "96.09375"
      ]
     },
     "execution_count": 101,
     "metadata": {},
     "output_type": "execute_result"
    }
   ],
   "source": [
    "#Modify Data\n",
    "classes_testing = testing_dataframe[:,0]\n",
    "y_testing = np.zeros([classes_testing.shape[0],3])\n",
    "for i in range(0,classes_testing.shape[0]):\n",
    "    save = int(classes_testing[i] - 1) \n",
    "    y_testing[i,save] = 1\n",
    "x_testing = np.delete(testing_dataframe, 0, 1)\n",
    "x_testing = standardise(x_testing)[0]\n",
    "tx_testing = np.c_[np.ones((y_testing.shape[0], 1)), x_testing]\n",
    "#Multiply with our testing data with weights and take softmax of the score.  \n",
    "#This will give us the probabilities \n",
    "s_testing = np.matmul(tx_testing,W)\n",
    "prediction_testing = softmax_val(s_testing)\n",
    "\n",
    "#Choose the classes with the highest probability and turn the prediction into binary form \n",
    "for i in range(0,prediction_testing.shape[0]):\n",
    "    for j in range(0,3):\n",
    "        if prediction_testing[i,j] == np.max(prediction_testing[i,:]):\n",
    "            prediction_testing[i,j] = 1\n",
    "        else: \n",
    "            prediction_testing[i,j] = 0 \n",
    "\n",
    "#Calculate Accuracy\n",
    "error_testing = 100*(np.sum(np.max(y_testing - prediction_testing,axis=1))/y_testing.shape[0])\n",
    "accuracy_testing = 100 - error_testing\n",
    "accuracy_testing "
   ]
  },
  {
   "cell_type": "markdown",
   "metadata": {},
   "source": [
    "### EXTRAS\n",
    " \n",
    "The confusion matrix is a visual representation of the accuracy of our model. It is a graph obtained by plotting the predicted classes against the actual classes. \n",
    "The first confusion matrix is for the training data. The second will be for the testing data. \n"
   ]
  },
  {
   "cell_type": "code",
   "execution_count": 102,
   "metadata": {},
   "outputs": [],
   "source": [
    "#Augment tx \n",
    "tx = np.c_[np.ones((y.shape[0], 1)), x]\n",
    "#Multiply with our testing data with weights and take softmax of the score.  \n",
    "#This will give us the probabilities \n",
    "s_training = np.matmul(tx,W)\n",
    "prediction_training = softmax_val(s_training)\n",
    "\n",
    "#Choose the classes with the highest probability\n",
    "for i in range(0,prediction_training.shape[0]):\n",
    "    for j in range(0,3):\n",
    "        if prediction_training[i,j] == np.max(prediction_training[i,:]):\n",
    "            prediction_training[i,j] = 1\n",
    "        else: \n",
    "            prediction_training[i,j] = 0 \n",
    "\n",
    "#Convert the one-hot encoded matrix back to array of just classes\n",
    "classes_training = np.zeros(classes.shape[0])\n",
    "for i in range(0,classes_training.shape[0]):\n",
    "    for j in range(0,3):\n",
    "        if prediction_training[i,j] == np.max(prediction_training[i,:]):\n",
    "            classes_training[i] = j+1\n",
    "            \n",
    "#Calculate confusion matrix\n",
    "confusion_training = np.zeros([3,3])\n",
    "for i in range(0,classes.shape[0]): \n",
    "    confusion_training[int(classes[i]-1),int(classes_training[i] - 1)] +=1\n",
    "confusion_training \n",
    "\n",
    "#Calculate Accuracy\n",
    "error_training = 100*(np.sum(np.max(y - prediction_training,axis=1))/y.shape[0])\n",
    "accuracy_training = 100 - error_training"
   ]
  },
  {
   "cell_type": "markdown",
   "metadata": {},
   "source": [
    "Now, for a better visualisation of the confusion matrix"
   ]
  },
  {
   "cell_type": "code",
   "execution_count": 103,
   "metadata": {},
   "outputs": [
    {
     "data": {
      "image/png": "[encoded data removed]",
      "text/plain": [
       "<Figure size 216x216 with 2 Axes>"
      ]
     },
     "metadata": {
      "needs_background": "light"
     },
     "output_type": "display_data"
    }
   ],
   "source": [
    "plt.figure(figsize=(3,3))\n",
    "sns.heatmap(confusion_training, annot=True, fmt=\".3f\", linewidths=2, square = True);\n",
    "plt.ylabel('Actual class');\n",
    "plt.xlabel('Predicted class');\n",
    "all_sample_title = 'Accuracy: {0}'.format(accuracy_training)\n",
    "plt.title(all_sample_title, size = 15);"
   ]
  },
  {
   "cell_type": "markdown",
   "metadata": {},
   "source": [
    "Now do the same thing to make confusion matrix for the testing data"
   ]
  },
  {
   "cell_type": "code",
   "execution_count": 104,
   "metadata": {},
   "outputs": [
    {
     "data": {
      "text/plain": [
       "array([[41.,  0.,  0.],\n",
       "       [ 4., 45.,  0.],\n",
       "       [ 0.,  1., 37.]])"
      ]
     },
     "execution_count": 104,
     "metadata": {},
     "output_type": "execute_result"
    }
   ],
   "source": [
    "#Convert the one-hot encoded matrix back to array of just classes\n",
    "prediction_classes_testing = np.zeros(classes_testing.shape[0])\n",
    "for i in range(0,classes_testing.shape[0]):\n",
    "    for j in range(0,3):\n",
    "        if prediction_testing[i,j] == np.max(prediction_testing[i,:]):\n",
    "            prediction_classes_testing[i] = j+1\n",
    "            \n",
    "#Calculate confusion matrix\n",
    "confusion_testing = np.zeros([3,3])\n",
    "for i in range(0,classes_testing.shape[0]): \n",
    "    confusion_testing[int(classes_testing[i]-1),int(prediction_classes_testing[i] - 1)] +=1\n",
    "confusion_testing     "
   ]
  },
  {
   "cell_type": "code",
   "execution_count": 105,
   "metadata": {},
   "outputs": [
    {
     "data": {
      "image/png": "[encoded data removed]",
      "text/plain": [
       "<Figure size 216x216 with 2 Axes>"
      ]
     },
     "metadata": {
      "needs_background": "light"
     },
     "output_type": "display_data"
    }
   ],
   "source": [
    "plt.figure(figsize=(3,3))\n",
    "sns.heatmap(confusion_testing, annot=True, fmt=\".3f\", linewidths=2, square = True);\n",
    "plt.ylabel('Actual class');\n",
    "plt.xlabel('Predicted class');\n",
    "all_sample_title = 'Accuracy: {0}'.format(accuracy_testing)\n",
    "plt.title(all_sample_title, size = 15);"
   ]
  },
  {
   "cell_type": "markdown",
   "metadata": {},
   "source": [
    "Since we can't plot a 14-dimensional graph, we thought if we chose three features with the heaviest weights, we might be able to find the features with the most influence in the classification. We chose three features as we can plot a 3-dimensional graph.\n",
    "<br>We chose the features by taking absolute values of all elements in the weight matrix and the summing all along the rows. To choose the most influential features we chose, the largest values in the resulting array. "
   ]
  },
  {
   "cell_type": "code",
   "execution_count": 121,
   "metadata": {},
   "outputs": [
    {
     "data": {
      "text/plain": [
       "array([1.51927071, 3.03221972, 0.73520657, 1.56466848, 1.61387962,\n",
       "       1.4414802 , 0.9923955 , 1.5716679 , 0.65298324, 0.74802109,\n",
       "       1.97767132, 1.56337454, 1.21723202, 2.708468  ])"
      ]
     },
     "execution_count": 121,
     "metadata": {},
     "output_type": "execute_result"
    }
   ],
   "source": [
    "W = np.sum(np.abs(W),axis=1)\n",
    "W"
   ]
  },
  {
   "cell_type": "markdown",
   "metadata": {},
   "source": [
    "The biggest weights correspond to the following features: \n",
    "\n",
    "1. Alcohol\n",
    "2. Colour Intensity\n",
    "3. Proline\n",
    "\n",
    "Hence, we plot a graph with the features and colour the points according to the classes. After finding an appropriate rotation for the plot, we notice a clear separation between the classes on the graph."
   ]
  },
  {
   "cell_type": "code",
   "execution_count": 107,
   "metadata": {},
   "outputs": [
    {
     "data": {
      "image/png": "[encoded data removed]",
      "text/plain": [
       "<Figure size 432x288 with 1 Axes>"
      ]
     },
     "metadata": {
      "needs_background": "light"
     },
     "output_type": "display_data"
    }
   ],
   "source": [
    "colours = []\n",
    "for i in range(0,training_dataframe.shape[0]):\n",
    "    if int(training_dataframe[i,0]) == 1:\n",
    "        colours.append('red')\n",
    "    elif int(training_dataframe[i,0]) == 2:\n",
    "        colours.append('blue')\n",
    "    else: \n",
    "        colours.append('yellow')\n",
    "fig = plt.figure()\n",
    "ax = fig.add_subplot(111, projection='3d')\n",
    "ax.set_xlabel('Alcohol')\n",
    "ax.set_ylabel('Proline')\n",
    "ax.set_zlabel('Colour Intensity')\n",
    "ax.scatter(training_dataframe[:,1],training_dataframe[:,13],training_dataframe[:,10],c=colours,marker=\"o\",picker=True)\n",
    "ax.view_init(5,140)"
   ]
  }
 ],
 "metadata": {
  "kernelspec": {
   "display_name": "Python 3",
   "language": "python",
   "name": "python3"
  },
  "language_info": {
   "codemirror_mode": {
    "name": "ipython",
    "version": 3
   },
   "file_extension": ".py",
   "mimetype": "text/x-python",
   "name": "python",
   "nbconvert_exporter": "python",
   "pygments_lexer": "ipython3",
   "version": "3.7.3"
  }
 },
 "nbformat": 4,
 "nbformat_minor": 2
}
